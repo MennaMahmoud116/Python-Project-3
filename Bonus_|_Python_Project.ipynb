{
  "nbformat": 4,
  "nbformat_minor": 0,
  "metadata": {
    "colab": {
      "name": "Bonus | Python Project.ipynb",
      "provenance": [],
      "include_colab_link": true
    },
    "kernelspec": {
      "name": "python3",
      "display_name": "Python 3"
    }
  },
  "cells": [
    {
      "cell_type": "markdown",
      "metadata": {
        "id": "view-in-github",
        "colab_type": "text"
      },
      "source": [
        "<a href=\"https://colab.research.google.com/github/MennaMahmoud116/Python-Project-3/blob/main/Bonus_%7C_Python_Project.ipynb\" target=\"_parent\"><img src=\"https://colab.research.google.com/assets/colab-badge.svg\" alt=\"Open In Colab\"/></a>"
      ]
    },
    {
      "cell_type": "markdown",
      "metadata": {
        "id": "6Z0jHQRlAhlt"
      },
      "source": [
        "### Identify The Start and Stop Codons Using Python"
      ]
    },
    {
      "cell_type": "markdown",
      "metadata": {
        "id": "0WI_MeiTAcbP"
      },
      "source": [
        "Menna T-allah Mahmoud Abdallahi"
      ]
    },
    {
      "cell_type": "code",
      "metadata": {
        "id": "GsKI_4vpIX_v",
        "colab": {
          "base_uri": "https://localhost:8080/",
          "height": 34
        },
        "outputId": "ccd98507-a73e-4168-c179-ebf599323ae3"
      },
      "source": [
        "mygene = \"ATGGAGGAGCCGCAGTCAGATCCTAGCGTCGAGCCCCCTCTGAGTCAGGAAACATTTTCAGACCTATGGAAACTACTTCCTGAAAACAACGTTCTGTCCCCCTTGCCGTCCCAAGCAATGGATGATTTGATGCTGTCCCCGGACGATATTGAACAATGGTTCACTGAAGACCCAGGTCCAGATGAAGCTCCCAGAATGCCAGAGGCTGCTCCCCCCGTGGCCCCTGCACCAGCAGCTCCTACACCGGCGGCCCCTGCACCAGCCCCCTCCTGGCCCCTGTCATCTTCTGTCCCTTCCCAGAAAACCTACCAGGGCAGCTACGGTTTCCGTCTGGGCTTCTTGCATTCTGGGACAGCCAAGTCTGTGACTTGCACGTACTCCCCTGCCCTCAACAAGATGTTTTGCCAACTGGCCAAGACCTGCCCTGTGCAGCTGTGGGTTGATTCCACACCCCCGCCCGGCACCCGCGTCCGCGCCATGGCCATCTACAAGCAGTCACAGCACATGACGGAGGTTGTGAGGCGCTGCCCCCACCATGAGCGCTGCTCAGATAGCGATGGTCTGGCCCCTCCTCAGCATCTTATCCGAGTGGAAGGAAATTTGCGTGTGGAGTATTTGGATGACAGAAACACTTTTCGACATAGTGTGGTGGTGCCCTATGAGCCGCCTGAGGTTGGCTCTGACTGTACCACCATCCACTACAACTACATGTGTAACAGTTCCTGCATGGGCGGCATGAACCGGAGGCCCATCCTCACCATCATCACACTGGAAGACTCCAGTGGTAATCTACTGGGACGGAACAGCTTTGAGGTGCGTGTTTGTGCCTGTCCTGGGAGAGACCGGCGCACAGAGGAAGAGAATCTCCGCAAGAAAGGGGAGCCTCACCACGAGCTGCCCCCAGGGAGCACTAAGCGAGCACTGCCCAACAACACCAGCTCCTCTCCCCAGCCAAAGAAGAAACCACTGGATGGAGAATATTTCACCCTTCAGATCCGTGGGCGTGAGCGCTTCGAGATGTTCCGAGAGCTGAATGAGGCCTTGGAACTCAAGGATGCCCAGGCTGGGAAGGAGCCAGGGGGGAGCAGGGCTCACTCCAGCCACCTGAAGTCCAAAAAGGGTCAGTCTACCTCCCGCCATAAAAAACTCATGTTCAAGACAGAAGGGCCTGACTCAGACTGA\"\n",
        "print(\"Gene length: \", len(mygene))"
      ],
      "execution_count": null,
      "outputs": [
        {
          "output_type": "stream",
          "text": [
            "Gene length:  1182\n"
          ],
          "name": "stdout"
        }
      ]
    },
    {
      "cell_type": "code",
      "metadata": {
        "id": "WWXVyfBfIcSZ",
        "colab": {
          "base_uri": "https://localhost:8080/",
          "height": 34
        },
        "outputId": "caa69389-491a-4cba-deca-185a222ed935"
      },
      "source": [
        "number_of_codons = int(len(mygene)/3)\n",
        "print(number_of_codons)"
      ],
      "execution_count": null,
      "outputs": [
        {
          "output_type": "stream",
          "text": [
            "394\n"
          ],
          "name": "stdout"
        }
      ]
    },
    {
      "cell_type": "code",
      "metadata": {
        "id": "S2DLk5XrIeSQ"
      },
      "source": [
        "gencode = {\n",
        "    'ATA':'I', 'ATC':'I', 'ATT':'I', 'ATG':'M',\n",
        "    'ACA':'T', 'ACC':'T', 'ACG':'T', 'ACT':'T',\n",
        "    'AAC':'N', 'AAT':'N', 'AAA':'K', 'AAG':'K',\n",
        "    'AGC':'S', 'AGT':'S', 'AGA':'R', 'AGG':'R',\n",
        "    'CTA':'L', 'CTC':'L', 'CTG':'L', 'CTT':'L',\n",
        "    'CCA':'P', 'CCC':'P', 'CCG':'P', 'CCT':'P',\n",
        "    'CAC':'H', 'CAT':'H', 'CAA':'Q', 'CAG':'Q',\n",
        "    'CGA':'R', 'CGC':'R', 'CGG':'R', 'CGT':'R',\n",
        "    'GTA':'V', 'GTC':'V', 'GTG':'V', 'GTT':'V',\n",
        "    'GCA':'A', 'GCC':'A', 'GCG':'A', 'GCT':'A',\n",
        "    'GAC':'D', 'GAT':'D', 'GAA':'E', 'GAG':'E',\n",
        "    'GGA':'G', 'GGC':'G', 'GGG':'G', 'GGT':'G',\n",
        "    'TCA':'S', 'TCC':'S', 'TCG':'S', 'TCT':'S',\n",
        "    'TTC':'F', 'TTT':'F', 'TTA':'L', 'TTG':'L',\n",
        "    'TAC':'Y', 'TAT':'Y', 'TAA':'_', 'TAG':'_',\n",
        "    'TGC':'C', 'TGT':'C', 'TGA':'_', 'TGG':'W'}"
      ],
      "execution_count": null,
      "outputs": []
    },
    {
      "cell_type": "code",
      "metadata": {
        "id": "ZsFMhUYWIhnP",
        "colab": {
          "base_uri": "https://localhost:8080/",
          "height": 122
        },
        "outputId": "f69651ba-2c34-45d6-abd7-ef0e94dc9aa4"
      },
      "source": [
        "start=0\n",
        "for s in range(number_of_codons):\n",
        "  if(mygene[s:s+3]==\"ATG\"):\n",
        "    start=s\n",
        "    print(\"I found the start codon\")\n",
        "    break\n",
        "print(\"starting of translation:\")\n",
        "myprotein = \"\"\n",
        "for t in range(start, number_of_codons):\n",
        "  codon = mygene[(t*3):(t*3+3)]\n",
        "  aa=gencode[codon]\n",
        "  myprotein = myprotein + aa\n",
        "  if(codon == \"TAA\"):\n",
        "    print (\"Found a stop codon\")\n",
        "    print (\"The stop codon is:\", codon)\n",
        "    break\n",
        "  elif (codon == \"TAG\"):\n",
        "    print (\"Found a stop codon\")\n",
        "    print (\"The stop codon is:\", codon)\n",
        "    break\n",
        "  elif (codon == \"TGA\"):\n",
        "    print (\"Found a stop codon\")\n",
        "    print (\"The stop codon is:\", codon)\n",
        "    break\n",
        "print (myprotein)\n",
        "\n",
        "  "
      ],
      "execution_count": null,
      "outputs": [
        {
          "output_type": "stream",
          "text": [
            "I found the start codon\n",
            "starting of translation:\n",
            "Found a stop codon\n",
            "The stop codon is: TGA\n",
            "MEEPQSDPSVEPPLSQETFSDLWKLLPENNVLSPLPSQAMDDLMLSPDDIEQWFTEDPGPDEAPRMPEAAPPVAPAPAAPTPAAPAPAPSWPLSSSVPSQKTYQGSYGFRLGFLHSGTAKSVTCTYSPALNKMFCQLAKTCPVQLWVDSTPPPGTRVRAMAIYKQSQHMTEVVRRCPHHERCSDSDGLAPPQHLIRVEGNLRVEYLDDRNTFRHSVVVPYEPPEVGSDCTTIHYNYMCNSSCMGGMNRRPILTIITLEDSSGNLLGRNSFEVRVCACPGRDRRTEEENLRKKGEPHHELPPGSTKRALPNNTSSSPQPKKKPLDGEYFTLQIRGRERFEMFRELNEALELKDAQAGKEPGGSRAHSSHLKSKKGQSTSRHKKLMFKTEGPDSD_\n"
          ],
          "name": "stdout"
        }
      ]
    },
    {
      "cell_type": "markdown",
      "metadata": {
        "id": "ye9avJY7Pd69"
      },
      "source": [
        "**Regarding the second bonus question:**  If there are several start and stop codons, which start and which stop, would you use for the translation\n",
        "\n",
        "**The answer would be:** to identify all the possible reading frames and make a comparison between these 6 reading frames and print the reading frame that gives the longest amino acid sequence before a stop codon is encountered. "
      ]
    }
  ]
}